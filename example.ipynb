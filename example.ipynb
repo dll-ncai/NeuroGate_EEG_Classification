{
 "cells": [
  {
   "cell_type": "code",
   "execution_count": null,
   "metadata": {},
   "outputs": [],
   "source": [
    "import torch\n",
    "from torch import nn\n",
    "from torch.nn import functional as F\n",
    "from torch.utils.data import DataLoader\n",
    "from cereprocess.train.xloop import oneloop, get_datanpz, get_dataloaders\n",
    "from cereprocess.train.misc import TrainElements, get_model_size, EarlyStopping, check_model, def_dev, def_hyp\n",
    "from cereprocess.datasets.defaults import get_def_ds\n",
    "from cereprocess.datasets.pytordataset import KFoldDataset\n",
    "from cereprocess.datasets.pipeline import general_pipeline\n",
    "from cereprocess.train.retrieve import load_picks, get_results                \n",
    "from cereprocess.train.train import evaluate          \n",
    "from cereprocess.train.callbacks import def_metrics       \n",
    "from cereprocess.datasets.pytordataset import KFoldDataset\n",
    "from models.neurogate import NeuroGATE\n",
    "import pandas as pd\n",
    "import numpy as np\n",
    "import gc\n",
    "import os"
   ]
  },
  {
   "cell_type": "markdown",
   "metadata": {},
   "source": [
    "# Training"
   ]
  },
  {
   "cell_type": "code",
   "execution_count": null,
   "metadata": {},
   "outputs": [],
   "source": [
    "device = def_dev()\n",
    "mins = 10\n",
    "length = mins * 3000\n",
    "input_size = (22, length)\n",
    "tuh, nmt, nmt_4k = get_def_ds(mins)"
   ]
  },
  {
   "cell_type": "code",
   "execution_count": null,
   "metadata": {},
   "outputs": [],
   "source": [
    "# Change the dataset currently in use from over here\n",
    "curr_data = nmt_4k"
   ]
  },
  {
   "cell_type": "code",
   "execution_count": null,
   "metadata": {},
   "outputs": [],
   "source": [
    "# Change pipeline from here\n",
    "data_dir, data_description = get_datanpz(curr_data[0], curr_data[3], neurogate_pipeline(dataset='NMT', length_minutes=mins), input_size)"
   ]
  },
  {
   "cell_type": "code",
   "execution_count": null,
   "metadata": {},
   "outputs": [],
   "source": [
    "# Start training from here\n",
    "# Set hyperparameters\n",
    "hyps = def_hyp(batch_size=8, epochs=60, lr=0.0003, accum_iter=1)\n",
    "train_loader, eval_loader = get_dataloaders(data_dir, hyps['batch_size'], target_length=length)\n",
    "# Set early stopping\n",
    "es = EarlyStopping(patience=60) \n",
    "# Configure training\n",
    "train_elems = TrainElements(device\n",
    ", earlystopping=es\n",
    ")\n",
    "model = NeuroGATE().to(device)\n",
    "name = f'NeuroGate'\n",
    "model_x = oneloop(device, model, train_loader, eval_loader, data_description, hyps, train_elems, curr_data[3], name)\n",
    "torch.cuda.empty_cache()\n",
    "gc.collect()neurograte_eeg"
   ]
  },
  {
   "cell_type": "markdown",
   "metadata": {},
   "source": [
    "# Evaluating a trained model"
   ]
  },
  {
   "cell_type": "code",
   "execution_count": null,
   "metadata": {},
   "outputs": [],
   "source": [
    "metrics = def_metrics(device)\n",
    "model = NeuroGATE().to(device)\n",
    "model.load_state_dict(torch.load(\"results/nmt4k/models/model_XX.pt\"))\n",
    "train_elems = TrainElements(device)"
   ]
  },
  {
   "cell_type": "code",
   "execution_count": null,
   "metadata": {},
   "outputs": [],
   "source": [
    "length = 10 * 3000\n",
    "hyps = def_hyp(batch_size=8, epochs=60, lr=0.0003, accum_iter=1)\n",
    "train_loader, eval_loader = get_dataloaders(data_dir, hyps['batch_size'], target_length=length)"
   ]
  },
  {
   "cell_type": "code",
   "execution_count": null,
   "metadata": {},
   "outputs": [],
   "source": [
    "evaluate(model, eval_loader, train_elems.criterion, device, metrics, train_elems.history, plot_roc=False)"
   ]
  },
  {
   "cell_type": "code",
   "execution_count": null,
   "metadata": {},
   "outputs": [],
   "source": [
    "train_elems.history.history"
   ]
  },
  {
   "cell_type": "code",
   "execution_count": null,
   "metadata": {},
   "outputs": [],
   "source": [
    "{key: value[-1] if isinstance(value, list) else value for key, value in history.history['val'].items()}"
   ]
  },
  {
   "cell_type": "markdown",
   "metadata": {},
   "source": [
    "# Running K-Fold Training"
   ]
  },
  {
   "cell_type": "code",
   "execution_count": null,
   "metadata": {},
   "outputs": [],
   "source": [
    "i = 1\n",
    "for trainset, evalset in KFoldDataset(root_dir=data_dir, n_splits=10, shuffle=True):\n",
    "    train_loader = DataLoader(trainset, batch_size=hyps[\"batch_size\"], shuffle=True)\n",
    "    eval_loader = DataLoader(evalset)\n",
    "    model = NeuroGATE().to(device)\n",
    "    train_elems = TrainElements(device)\n",
    "    name = f'KFold-{i}'\n",
    "    model_x = oneloop(device, model, train_loader, eval_loader, data_description, hyps, train_elems, curr_data[3], name)\n",
    "    torch.cuda.empty_cache()\n",
    "    gc.collect()\n",
    "    i += 1"
   ]
  },
  {
   "cell_type": "markdown",
   "metadata": {},
   "source": [
    "# Check Results"
   ]
  },
  {
   "cell_type": "code",
   "execution_count": null,
   "metadata": {},
   "outputs": [],
   "source": [
    "from train.retrieve import get_results, get_paths, load_picks\n",
    "import pickle\n",
    "from datasets.defaults import get_def_ds"
   ]
  },
  {
   "cell_type": "code",
   "execution_count": null,
   "metadata": {},
   "outputs": [],
   "source": [
    "# Defining the dataset (This stores information for tuh and nmt, including the class weight balancing)\n",
    "tuh, nmt, nmt_4k = get_def_ds(mins=mins)\n",
    "current_selected = nmt_4k"
   ]
  },
  {
   "cell_type": "code",
   "execution_count": null,
   "metadata": {},
   "outputs": [],
   "source": [
    "res = get_results(current_selected[3], clean=True)"
   ]
  },
  {
   "cell_type": "code",
   "execution_count": null,
   "metadata": {},
   "outputs": [],
   "source": [
    "res.head()"
   ]
  }
 ],
 "metadata": {
  "kernelspec": {
   "display_name": "eeg",
   "language": "python",
   "name": "eeg"
  },
  "language_info": {
   "codemirror_mode": {
    "name": "ipython",
    "version": 3
   },
   "file_extension": ".py",
   "mimetype": "text/x-python",
   "name": "python",
   "nbconvert_exporter": "python",
   "pygments_lexer": "ipython3",
   "version": "3.13.7"
  }
 },
 "nbformat": 4,
 "nbformat_minor": 4
}
